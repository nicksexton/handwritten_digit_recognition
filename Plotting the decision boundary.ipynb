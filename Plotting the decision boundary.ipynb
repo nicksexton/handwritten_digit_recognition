{
 "cells": [
  {
   "cell_type": "markdown",
   "metadata": {},
   "source": [
    "# Plotting the decision boundary\n",
    "\n",
    "using the countour function in matplotlib to visualise decision boundaries in a two-dimensional plane"
   ]
  },
  {
   "cell_type": "code",
   "execution_count": 9,
   "metadata": {
    "collapsed": true
   },
   "outputs": [],
   "source": [
    "#import the necessary packages and mosules\n",
    "import numpy as np\n",
    "import matplotlib.pyplot as plt\n",
    "\n",
    "%matplotlib inline\n",
    "\n",
    "#define the function f(x,y)\n",
    "def f(x, y):\n",
    "    return 2*np.square(x) + 5*np.square(y)\n",
    "\n",
    "#define the domain of interest, and the size of the mesh\n",
    "domain_of_interest_x = (-5, 5)\n",
    "domain_of_interest_y = (-5, 5)\n",
    "grid_size = 0.1\n",
    "\n",
    "#generate the mesh points with the np.meshgrid() function\n",
    "mesh_points_x, mesh_points_y = np.meshgrid(np.arange(domain_of_interest_x[0], domain_of_interest_x[1], grid_size), np.arange(domain_of_interest_y[0], domain_of_interest_y[1], grid_size))"
   ]
  },
  {
   "cell_type": "code",
   "execution_count": 10,
   "metadata": {},
   "outputs": [
    {
     "name": "stdout",
     "output_type": "stream",
     "text": [
      "[[-5.  -4.9 -4.8 ...,  4.7  4.8  4.9]\n",
      " [-5.  -4.9 -4.8 ...,  4.7  4.8  4.9]\n",
      " [-5.  -4.9 -4.8 ...,  4.7  4.8  4.9]\n",
      " ..., \n",
      " [-5.  -4.9 -4.8 ...,  4.7  4.8  4.9]\n",
      " [-5.  -4.9 -4.8 ...,  4.7  4.8  4.9]\n",
      " [-5.  -4.9 -4.8 ...,  4.7  4.8  4.9]]\n"
     ]
    }
   ],
   "source": [
    "print (mesh_points_x)"
   ]
  },
  {
   "cell_type": "code",
   "execution_count": 11,
   "metadata": {},
   "outputs": [
    {
     "name": "stdout",
     "output_type": "stream",
     "text": [
      "[[-5.  -5.  -5.  ..., -5.  -5.  -5. ]\n",
      " [-4.9 -4.9 -4.9 ..., -4.9 -4.9 -4.9]\n",
      " [-4.8 -4.8 -4.8 ..., -4.8 -4.8 -4.8]\n",
      " ..., \n",
      " [ 4.7  4.7  4.7 ...,  4.7  4.7  4.7]\n",
      " [ 4.8  4.8  4.8 ...,  4.8  4.8  4.8]\n",
      " [ 4.9  4.9  4.9 ...,  4.9  4.9  4.9]]\n"
     ]
    }
   ],
   "source": [
    "print (mesh_points_y)"
   ]
  },
  {
   "cell_type": "code",
   "execution_count": 12,
   "metadata": {
    "collapsed": true
   },
   "outputs": [],
   "source": [
    "#calculate the value of f(x, y) over the mesh points\n",
    "Z = f(mesh_points_x.ravel(), mesh_points_y.ravel())"
   ]
  },
  {
   "cell_type": "code",
   "execution_count": 13,
   "metadata": {},
   "outputs": [
    {
     "name": "stdout",
     "output_type": "stream",
     "text": [
      "[ 175.    173.02  171.08 ...,  164.23  166.13  168.07]\n"
     ]
    }
   ],
   "source": [
    "print (Z)"
   ]
  },
  {
   "cell_type": "code",
   "execution_count": 16,
   "metadata": {},
   "outputs": [
    {
     "data": {
      "text/plain": [
       "<matplotlib.contour.QuadContourSet at 0x7f1ccfceab00>"
      ]
     },
     "execution_count": 16,
     "metadata": {},
     "output_type": "execute_result"
    },
    {
     "data": {
      "image/png": "[encoded data removed]",
      "text/plain": [
       "<matplotlib.figure.Figure at 0x7f1ccfd61b00>"
      ]
     },
     "metadata": {},
     "output_type": "display_data"
    }
   ],
   "source": [
    "#reshape and plug into the plt.contour() function\n",
    "Z = Z.reshape(mesh_points_x.shape)\n",
    "plt.contour(mesh_points_x, mesh_points_y, Z, levels=[1, 5, 9, 13, 17, 29], cmap=plt.cm.Spectral)"
   ]
  },
  {
   "cell_type": "markdown",
   "metadata": {},
   "source": [
    "Alternatively using the `countourf` function for a different appearance: "
   ]
  },
  {
   "cell_type": "code",
   "execution_count": 18,
   "metadata": {},
   "outputs": [
    {
     "data": {
      "text/plain": [
       "<matplotlib.contour.QuadContourSet at 0x7f1ccfc33828>"
      ]
     },
     "execution_count": 18,
     "metadata": {},
     "output_type": "execute_result"
    },
    {
     "data": {
      "image/png": "[encoded data removed]",
      "text/plain": [
       "<matplotlib.figure.Figure at 0x7f1ccfcae4e0>"
      ]
     },
     "metadata": {},
     "output_type": "display_data"
    }
   ],
   "source": [
    "plt.contourf(mesh_points_x, mesh_points_y, Z, levels=[1, 5, 9, 13, 17, 29], cmap=plt.cm.Spectral)"
   ]
  },
  {
   "cell_type": "code",
   "execution_count": null,
   "metadata": {
    "collapsed": true
   },
   "outputs": [],
   "source": []
  }
 ],
 "metadata": {
  "kernelspec": {
   "display_name": "Python 3",
   "language": "python",
   "name": "python3"
  },
  "language_info": {
   "codemirror_mode": {
    "name": "ipython",
    "version": 3
   },
   "file_extension": ".py",
   "mimetype": "text/x-python",
   "name": "python",
   "nbconvert_exporter": "python",
   "pygments_lexer": "ipython3",
   "version": "3.6.3"
  }
 },
 "nbformat": 4,
 "nbformat_minor": 2
}
