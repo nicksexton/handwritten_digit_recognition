{
 "cells": [
  {
   "cell_type": "markdown",
   "metadata": {},
   "source": [
    "# Part 4 - Fun With Convolutional Networks\n",
    "\n",
    "In Parts 2 & 3 we applied a 3-layer perceptron (with 400, 150 hidden units) to the MNIST and Fashion-MNIST respectively. In terms of numbers of layers, this is probably the smallest network you could describe as 'deep learning' but as we've seen it does a decent job, giving a similar level of performance to state-of-the-art SVMs. \n",
    "\n",
    "Let's move on to a convolutional network. Given the significant increase in model complexity, we'd really hope to do a better job than the 3-layer perceptron and the SVM models. Quite often, you see Keras tutorials on this same dataset with very complex convolutional network (which Keras makes easy to do) but those models frequently don't actually get any better performance on the task than we've managed to do with the 3-layer perceptron, or could be done with other machine learning models, like an SVM (but with a massively increased training time).\n",
    "\n",
    "Let's build a couple of convolutional models and see see how our performance compares to the previous model on both datasets."
   ]
  },
  {
   "cell_type": "code",
   "execution_count": 1,
   "metadata": {},
   "outputs": [
    {
     "name": "stderr",
     "output_type": "stream",
     "text": [
      "/home/nickdbn/anaconda3/lib/python3.6/site-packages/h5py/__init__.py:36: FutureWarning: Conversion of the second argument of issubdtype from `float` to `np.floating` is deprecated. In future, it will be treated as `np.float64 == np.dtype(float).type`.\n",
      "  from ._conv import register_converters as _register_converters\n"
     ]
    }
   ],
   "source": [
    "import tensorflow as tf\n",
    "import matplotlib.pyplot as plt\n",
    "import numpy as np\n",
    "import math\n",
    "import time\n",
    "from tensorflow.python.framework import ops\n",
    "from preprocess_conv import random_mini_batches\n",
    "\n",
    "%matplotlib inline\n",
    "plt.rcParams['figure.figsize'] = (10.0, 8.0) # set default size of plots\n",
    "plt.rcParams['image.interpolation'] = 'nearest'\n",
    "plt.rcParams['image.cmap'] = 'gray'\n",
    "\n",
    "mnist = tf.keras.datasets.mnist\n",
    "fashion_mnist = tf.keras.datasets.fashion_mnist\n"
   ]
  },
  {
   "cell_type": "markdown",
   "metadata": {},
   "source": [
    "As we did previously (parts 2 and 3), we're going to import the MNIST and the Fashion MNIST in parallel. To be clear - we're going to train separate models on each dataset, but here we're loading and processing the data all together."
   ]
  },
  {
   "cell_type": "code",
   "execution_count": 2,
   "metadata": {
    "collapsed": true
   },
   "outputs": [],
   "source": [
    "def convert_to_one_hot(Y, C):\n",
    "    Y = np.eye(C)[Y.reshape(-1)].T\n",
    "    return Y"
   ]
  },
  {
   "cell_type": "code",
   "execution_count": 3,
   "metadata": {
    "scrolled": true
   },
   "outputs": [
    {
     "name": "stdout",
     "output_type": "stream",
     "text": [
      "f_x_train shape: (60000, 28, 28, 1)\n",
      "f_y_train shape: (60000, 10)\n",
      "f_x_test shape: (10000, 28, 28, 1)\n",
      "f_y_test shape: (10000, 10)\n",
      "d_x_train shape: (60000, 28, 28, 1)\n",
      "d_y_train shape: (60000, 10)\n",
      "d_x_test shape: (10000, 28, 28, 1)\n",
      "d_y_test shape: (10000, 10)\n"
     ]
    }
   ],
   "source": [
    "(f_x_train, f_y_train_orig),(f_x_test, f_y_test_orig) = fashion_mnist.load_data()\n",
    "(d_x_train, d_y_train_orig), (d_x_test, d_y_test_orig) = mnist.load_data()\n",
    "\n",
    "f_x_train, f_x_test = f_x_train / 255.0, f_x_test / 255.0 # normalise\n",
    "d_x_train, d_x_test = d_x_train / 255.0, d_x_test / 255.0 # normalise\n",
    "\n",
    "# reshape y to arrays of shape (m,1)\n",
    "#f_y_train, f_y_test = f_y_train.reshape(f_y_train.shape[0], 1), f_y_test.reshape(f_y_test.shape[0], 1)\n",
    "#d_y_train, d_y_test = d_y_train.reshape(d_y_train.shape[0], 1), d_y_test.reshape(d_y_test.shape[0], 1)\n",
    "\n",
    "f_x_train = f_x_train.reshape(f_x_train.shape[0], f_x_train.shape[1], f_x_train.shape[2], 1)\n",
    "f_x_test = f_x_test.reshape(f_x_test.shape[0], f_x_test.shape[1], f_x_test.shape[2], 1)\n",
    "d_x_train = d_x_train.reshape(d_x_train.shape[0], d_x_train.shape[1], d_x_train.shape[2], 1)\n",
    "d_x_test = d_x_test.reshape(d_x_test.shape[0], d_x_test.shape[1], d_x_test.shape[2], 1)\n",
    "\n",
    "f_y_train = convert_to_one_hot(f_y_train_orig, 10).T\n",
    "f_y_test = convert_to_one_hot(f_y_test_orig, 10).T\n",
    "d_y_train = convert_to_one_hot(d_y_train_orig, 10).T\n",
    "d_y_test = convert_to_one_hot(d_y_test_orig, 10).T\n",
    "\n",
    "\n",
    "print (\"f_x_train shape:\", f_x_train.shape)\n",
    "print (\"f_y_train shape:\", f_y_train.shape)\n",
    "print (\"f_x_test shape:\", f_x_test.shape)\n",
    "print (\"f_y_test shape:\", f_y_test.shape)\n",
    "print (\"d_x_train shape:\", d_x_train.shape)\n",
    "print (\"d_y_train shape:\", d_y_train.shape)\n",
    "print (\"d_x_test shape:\", d_x_test.shape)\n",
    "print (\"d_y_test shape:\", d_y_test.shape)"
   ]
  },
  {
   "cell_type": "code",
   "execution_count": 4,
   "metadata": {},
   "outputs": [],
   "source": [
    "# Temporary - code broken by changing dimensionalty of X data to [m, h, w, c] where c =1\n",
    "\n",
    "#display_examples_n = 40\n",
    "#rows = 6\n",
    "#cols = 8\n",
    "#fig, axarr = plt.subplots(rows, cols)\n",
    "#\n",
    "#for r in range (0, rows):\n",
    "#    for c in range (0, cols):\n",
    "#        axarr[r][c].title.set_text(str(f_y_train_orig[(r*cols)+c]))\n",
    "#        axarr[r][c].imshow(f_x_train[(r*cols)+c])\n",
    "        \n",
    "#for r in range (3, rows):\n",
    "#    for c in range (0, cols):\n",
    "#        axarr[r][c].title.set_text(str(d_y_train_orig[(r*cols)+c]))\n",
    "#        axarr[r][c].imshow(d_x_train[(r*cols)+c])"
   ]
  },
  {
   "cell_type": "markdown",
   "metadata": {},
   "source": [
    "On this occasion, we're not going to bother carving the training set into a train/dev set. If we end up doing a lot of hyperparameter tuning we'll come back and do it. "
   ]
  },
  {
   "cell_type": "markdown",
   "metadata": {},
   "source": [
    "# The Model"
   ]
  },
  {
   "cell_type": "code",
   "execution_count": 5,
   "metadata": {
    "collapsed": true
   },
   "outputs": [],
   "source": [
    "def create_placeholders(n_H0, n_W0, n_C0, n_y):\n",
    "    \"\"\"\n",
    "    Creates the placeholders for the tensorflow session.\n",
    "    \n",
    "    Arguments:\n",
    "    n_H0 -- scalar, height of an input image\n",
    "    n_W0 -- scalar, width of an input image\n",
    "    n_C0 -- scalar, number of channels of the input\n",
    "    n_y -- scalar, number of classes\n",
    "        \n",
    "    Returns:\n",
    "    X -- placeholder for the data input, of shape [None, n_H0, n_W0, n_C0] and dtype \"float\"\n",
    "    Y -- placeholder for the input labels, of shape [None, n_y] and dtype \"float\"\n",
    "    \"\"\"\n",
    "\n",
    "    X = tf.placeholder(dtype=tf.float32, shape=[None, n_H0, n_W0, n_C0], name=\"X\")\n",
    "    Y = tf.placeholder(dtype=tf.float32, shape=[None, n_y], name=\"Y\")\n",
    "    \n",
    "    return X, Y"
   ]
  },
  {
   "cell_type": "code",
   "execution_count": 6,
   "metadata": {},
   "outputs": [
    {
     "name": "stdout",
     "output_type": "stream",
     "text": [
      "X = Tensor(\"X:0\", shape=(?, 28, 28, 1), dtype=float32)\n",
      "Y = Tensor(\"Y:0\", shape=(?, 10), dtype=float32)\n"
     ]
    }
   ],
   "source": [
    "X, Y = create_placeholders(28, 28, 1, 10)\n",
    "print (\"X = \" + str(X))\n",
    "print (\"Y = \" + str(Y))"
   ]
  },
  {
   "cell_type": "markdown",
   "metadata": {},
   "source": [
    "The two convolutional layers we'll use are 4x4x1x8 (4x4x1 filter with 8 channels) and 2x2x8x16 (2x2x8 filter with 16 channels)"
   ]
  },
  {
   "cell_type": "code",
   "execution_count": 28,
   "metadata": {
    "collapsed": true
   },
   "outputs": [],
   "source": [
    "def initialize_parameters_simple():\n",
    "    \"\"\"\n",
    "    Initializes weight parameters to build a neural network with tensorflow. The shapes are:\n",
    "                        W1 : [4, 4, 1, 8]\n",
    "                        W2 : [2, 2, 8, 16]\n",
    "    Returns:\n",
    "    parameters -- a dictionary of tensors containing W1, W2\n",
    "    \"\"\"\n",
    "    \n",
    "        \n",
    "    W1 = tf.get_variable(\"W1\", [4, 4, 1, 8], initializer=tf.contrib.layers.xavier_initializer(seed=0))\n",
    "    W2 = tf.get_variable(\"W2\", [2, 2, 8, 16], initializer=tf.contrib.layers.xavier_initializer(seed=0))\n",
    "\n",
    "    parameters = {\"W1\": W1,\n",
    "                  \"W2\": W2}\n",
    "    \n",
    "    return parameters"
   ]
  },
  {
   "cell_type": "code",
   "execution_count": 29,
   "metadata": {
    "collapsed": true
   },
   "outputs": [],
   "source": [
    "def forward_propagation_simple(X, parameters):\n",
    "    \"\"\"\n",
    "    Implements the forward propagation for the model:\n",
    "    CONV2D -> RELU -> MAXPOOL -> CONV2D -> RELU -> MAXPOOL -> FLATTEN -> FULLYCONNECTED\n",
    "    \n",
    "    Arguments:\n",
    "    X -- input dataset placeholder, of shape (input size, number of examples)\n",
    "    parameters -- python dictionary containing your parameters \"W1\", \"W2\"\n",
    "                  the shapes are given in initialize_parameters\n",
    "\n",
    "    Returns:\n",
    "    Z3 -- the output of the last LINEAR unit\n",
    "    \"\"\"\n",
    "    \n",
    "    W1 = parameters['W1']\n",
    "    W2 = parameters['W2']\n",
    "    \n",
    "    Z1 = tf.nn.conv2d(X, W1, strides=[1,1,1,1], padding='SAME')\n",
    "    A1 = tf.nn.relu(Z1)\n",
    "    P1 = tf.nn.max_pool(A1, ksize=[1,8,8,1], strides=[1,8,8,1], padding='SAME')\n",
    "\n",
    "    Z2 = tf.nn.conv2d(P1, W2, strides=[1,1,1,1], padding='SAME')\n",
    "    A2 = tf.nn.relu(Z2)\n",
    "    P2 = tf.nn.max_pool(A2, ksize=[1,4,4,1], strides=[1,4,4,1], padding='SAME')\n",
    "    P2 = tf.contrib.layers.flatten(P2) \n",
    "    \n",
    "    Z3 = tf.contrib.layers.fully_connected(P2, num_outputs=10, activation_fn=None)\n",
    "\n",
    "    return Z3"
   ]
  },
  {
   "cell_type": "markdown",
   "metadata": {},
   "source": [
    "# Running the model\n",
    "Once again, we're using a three-layer model (i.e. a multi-layer perceptron), with layers l1 = 400, l2 = 150, l3 = 10, with l1 through l3 using relu units, and l4 a softmax layer. The parameters are trained via backprop optimising to softmax cross-entropy loss. \n",
    "\n",
    "L2 regularization didn't seem to help much on the digits dataset but who knows, let's leave it in here. The default setting of beta is zero."
   ]
  },
  {
   "cell_type": "code",
   "execution_count": 9,
   "metadata": {
    "collapsed": true
   },
   "outputs": [],
   "source": [
    "def plot_training_by_epoch (costs, train_accuracy, test_accuracy, learning_rate):\n",
    "    \n",
    "    fig, ax1 = plt.subplots() \n",
    "    \n",
    "    # plot cost on primary y axis \n",
    "    cost = ax1.plot(np.squeeze(costs), label=\"cost\", color='b')\n",
    "    ax1.set_xlabel('epochs')\n",
    "    ax1.set_ylabel('cost', color='b')\n",
    "    ax1.tick_params('y', colors='b')\n",
    "    \n",
    "    # plot accuracy on secondary y axis\n",
    "    ax2 = ax1.twinx()\n",
    "    train_accuracy = ax2.plot(np.squeeze(train_accuracy), \n",
    "                              label=\"train accuracy\", color='r', linestyle='-.')\n",
    "    test_accuracy = ax2.plot(np.squeeze(test_accuracy), \n",
    "                             label=\"test accuracy\", color='r', linestyle=':')\n",
    "    ax2.set_ylabel('accuracy', color='r')\n",
    "    ax2.tick_params('y', colors='r')\n",
    "    \n",
    "    plt.legend(bbox_to_anchor=(1, 1))\n",
    "    \n",
    "    plt.title(\"Learning rate =\" + str(learning_rate))\n",
    "    fig.tight_layout()\n",
    "    plt.show()"
   ]
  },
  {
   "cell_type": "code",
   "execution_count": 10,
   "metadata": {
    "collapsed": true
   },
   "outputs": [],
   "source": [
    "def compute_cost(ZL, Y):\n",
    "    \"\"\"\n",
    "    Computes the cost\n",
    "    \n",
    "    Arguments:\n",
    "    ZL -- output of forward propagation (output of the last LINEAR unit), of shape (10, number of examples)\n",
    "    Y -- \"true\" labels vector placeholder, same shape as ZL\n",
    "    \n",
    "    Returns:\n",
    "    cost - Tensor of the cost function\n",
    "    \"\"\"\n",
    "    \n",
    "    cost = tf.reduce_mean(tf.nn.softmax_cross_entropy_with_logits(logits=ZL, labels=Y))\n",
    "    \n",
    "    return cost"
   ]
  },
  {
   "cell_type": "code",
   "execution_count": 35,
   "metadata": {
    "collapsed": true
   },
   "outputs": [],
   "source": [
    "def model(X_train, Y_train, X_test, Y_test, network = 'simple', learning_rate = 0.009,\n",
    "          num_epochs = 100, minibatch_size = 32, print_cost = True):\n",
    "    \"\"\"\n",
    "    Implements a three-layer ConvNet in Tensorflow:\n",
    "    CONV2D -> RELU -> MAXPOOL -> CONV2D -> RELU -> MAXPOOL -> FLATTEN -> FULLYCONNECTED\n",
    "    \n",
    "    Arguments:\n",
    "    X_train -- training set, of shape (None, 64, 64, 3)\n",
    "    Y_train -- test set, of shape (None, n_y = 6)\n",
    "    X_test -- training set, of shape (None, 64, 64, 3)\n",
    "    Y_test -- test set, of shape (None, n_y = 6)\n",
    "    learning_rate -- learning rate of the optimization\n",
    "    num_epochs -- number of epochs of the optimization loop\n",
    "    minibatch_size -- size of a minibatch\n",
    "    print_cost -- True to print the cost every 100 epochs\n",
    "    \n",
    "    Returns:\n",
    "    train_accuracy -- real number, accuracy on the train set (X_train)\n",
    "    test_accuracy -- real number, testing accuracy on the test set (X_test)\n",
    "    parameters -- parameters learnt by the model. They can then be used to predict.\n",
    "    \"\"\"\n",
    "    \n",
    "    ops.reset_default_graph()                # to be able to rerun the model without overwriting tf variables\n",
    "    (m, n_H0, n_W0, n_C0) = X_train.shape             \n",
    "    n_y = Y_train.shape[1]                            \n",
    "    costs = []                               # To keep track of the cost\n",
    "    train_accuracy = []                      # for plotting per epoch\n",
    "    test_accuracy = []                       # for plotting per epoch\n",
    "\n",
    "    \n",
    "    X, Y = create_placeholders(n_H0, n_W0, n_C0, n_y)\n",
    "\n",
    "    if network == 'lenet5':\n",
    "        parameters = initialize_parameters_lenet()\n",
    "        ZL = forward_propagation_lenet(X, parameters)\n",
    "        cost = compute_cost(ZL, Y)\n",
    "    else:\n",
    "        parameters = initialize_parameters_simple()\n",
    "        ZL = forward_propagation_simple(X, parameters)\n",
    "        cost = compute_cost(ZL, Y)\n",
    "    \n",
    "    # Backpropagation: Define the tensorflow optimizer. Use an AdamOptimizer that minimizes the cost.\n",
    "    optimizer = tf.train.AdamOptimizer (learning_rate = learning_rate).minimize(cost)\n",
    "        \n",
    "    # Graph for calculating the correct prediction\n",
    "    predict_op = tf.argmax(ZL, 1)\n",
    "    correct_prediction = tf.equal(predict_op, tf.argmax(Y, 1))\n",
    "        \n",
    "    # Graph for calculating accuracy on the test set (so we can plot it on the fly)\n",
    "    accuracy = tf.reduce_mean(tf.cast(correct_prediction, \"float\"))\n",
    "\n",
    "\n",
    "    # Initialize all the variables globally\n",
    "    init = tf.global_variables_initializer()\n",
    "     \n",
    "    # Start the session to compute the tensorflow graph\n",
    "    tic = time.time()\n",
    "    with tf.Session() as sess:\n",
    "        \n",
    "        # Run the initialization\n",
    "        sess.run(init)\n",
    "        \n",
    "        # Do the training loop\n",
    "        for epoch in range(num_epochs):\n",
    "\n",
    "            epoch_cost = 0.                           # Defines a cost related to an epoch\n",
    "            minibatch_cost = 0.\n",
    "            num_minibatches = int(m / minibatch_size) # number of minibatches of size minibatch_size in the train set\n",
    "            minibatches = random_mini_batches(X_train, Y_train, minibatch_size)\n",
    "\n",
    "            for minibatch in minibatches:\n",
    "\n",
    "                # Select a minibatch\n",
    "                (minibatch_X, minibatch_Y) = minibatch\n",
    "                _ , temp_cost = sess.run([optimizer, cost], feed_dict={X:minibatch_X, Y:minibatch_Y})                \n",
    "                minibatch_cost += temp_cost / num_minibatches\n",
    "                \n",
    "                epoch_cost += minibatch_cost / num_minibatches\n",
    "\n",
    "            # Print the cost every epoch\n",
    "            if print_cost == True and epoch % 5 == 0:\n",
    "                timer = time.time() - tic\n",
    "                print (\"Cost after epoch %i: %f, running for %f seconds\" % (epoch, \n",
    "                                                                            epoch_cost, timer))\n",
    "            if print_cost == True and epoch % 1 == 0:\n",
    "                costs.append(epoch_cost)\n",
    "                # evaluate accuracy\n",
    "                train_accuracy.append (accuracy.eval({X: X_train, Y: Y_train}))\n",
    "                test_accuracy.append (accuracy.eval({X: X_test, Y: Y_test}))\n",
    "\n",
    "        \n",
    "        # plot the cost\n",
    "        plot_training_by_epoch (costs, train_accuracy, test_accuracy, learning_rate)\n",
    "        \n",
    "\n",
    "\n",
    "        print(accuracy)\n",
    "        train_accuracy = accuracy.eval({X: X_train, Y: Y_train})\n",
    "        test_accuracy = accuracy.eval({X: X_test, Y: Y_test})\n",
    "        print(\"Train Accuracy:\", train_accuracy)\n",
    "        print(\"Test Accuracy:\", test_accuracy)\n",
    "                \n",
    "        return parameters, costs, train_accuracy, test_accuracy"
   ]
  },
  {
   "cell_type": "markdown",
   "metadata": {},
   "source": [
    "## Default model run"
   ]
  },
  {
   "cell_type": "code",
   "execution_count": 31,
   "metadata": {},
   "outputs": [
    {
     "name": "stdout",
     "output_type": "stream",
     "text": [
      "Cost after epoch 0: 1.155331, running for 11.253465 seconds\n",
      "Cost after epoch 5: 0.331001, running for 74.497088 seconds\n"
     ]
    },
    {
     "data": {
      "image/png": "[encoded data removed]",
      "text/plain": [
       "<Figure size 720x576 with 2 Axes>"
      ]
     },
     "metadata": {},
     "output_type": "display_data"
    },
    {
     "name": "stdout",
     "output_type": "stream",
     "text": [
      "Tensor(\"Mean_1:0\", shape=(), dtype=float32)\n",
      "Train Accuracy: 0.86216664\n",
      "Test Accuracy: 0.8681\n"
     ]
    }
   ],
   "source": [
    "parameters, costs, train_accuracy, test_accuracy = model(d_x_train, d_y_train, \n",
    "                                                         d_x_test, d_y_test, \n",
    "                                                         network='simple',\n",
    "                                                         learning_rate = 0.0001, \n",
    "                                                         num_epochs = 10)"
   ]
  },
  {
   "cell_type": "code",
   "execution_count": null,
   "metadata": {
    "collapsed": true
   },
   "outputs": [],
   "source": [
    "                # just a reminder that we can now plot outside the model training function\n",
    "# plot_training_by_epoch (costs, train_accuracy, test_accuracy, learning_rate = 0.0001)"
   ]
  },
  {
   "cell_type": "markdown",
   "metadata": {},
   "source": [
    "Training for 20 epochs (about 4 minutes on my CPU only), the model achieves ##accuracy. In comparison, in part 2 after 20 epochs we achieved 97.4% accuracy, after slightly more training time. \n",
    "\n",
    "Really interestingly, the train and test accuracy are basically interchangeable for the entire training set - i.e. a variance of near-zero. This is unexpected - could it be due to the simplicity of the conv net? (i.e., only convolutional and pooling layers with only a single fully connected layer?"
   ]
  },
  {
   "cell_type": "markdown",
   "metadata": {},
   "source": [
    "Now let's try the model on the Fashion-MNIST"
   ]
  },
  {
   "cell_type": "code",
   "execution_count": 26,
   "metadata": {},
   "outputs": [
    {
     "name": "stdout",
     "output_type": "stream",
     "text": [
      "Cost after epoch 0: 1.116347, running for 11.277927 seconds\n",
      "Cost after epoch 5: 0.415109, running for 76.503365 seconds\n",
      "Cost after epoch 10: 0.352841, running for 153.524980 seconds\n",
      "Cost after epoch 15: 0.327475, running for 228.881660 seconds\n",
      "Cost after epoch 20: 0.309862, running for 314.575245 seconds\n",
      "Cost after epoch 25: 0.302125, running for 399.695093 seconds\n",
      "Cost after epoch 30: 0.292205, running for 477.962178 seconds\n",
      "Cost after epoch 35: 0.287303, running for 538.024477 seconds\n"
     ]
    },
    {
     "data": {
      "image/png": "[encoded data removed]",
      "text/plain": [
       "<Figure size 720x576 with 2 Axes>"
      ]
     },
     "metadata": {},
     "output_type": "display_data"
    },
    {
     "name": "stdout",
     "output_type": "stream",
     "text": [
      "Tensor(\"Mean_1:0\", shape=(), dtype=float32)\n",
      "Train Accuracy: 0.7951667\n",
      "Test Accuracy: 0.7834\n"
     ]
    }
   ],
   "source": [
    "parameters, costs, train_accuracy, test_accuracy = model(f_x_train, f_y_train, \n",
    "                                                         f_x_test, f_y_test, \n",
    "                                                         learning_rate = 0.0001, \n",
    "                                                         num_epochs = 40)"
   ]
  },
  {
   "cell_type": "markdown",
   "metadata": {},
   "source": [
    "# LeNet-5\n",
    "\n",
    "Let's implement a slightly more complicated version of the previous conv net, with slightly bigger convolutional/pooling layers and a few more fully connected layers before the softmax. This is similar (but not the same!!) to LeNet-5 "
   ]
  },
  {
   "cell_type": "code",
   "execution_count": 64,
   "metadata": {
    "collapsed": true
   },
   "outputs": [],
   "source": [
    "def calc_conv_output_size (n_H_prev, n_W_prev, f, pad, stride):    \n",
    "    n_H = int (((n_H_prev - f + (2 * pad))/stride) + 1)\n",
    "    n_W = int (((n_W_prev - f + (2 * pad))/stride) + 1)\n",
    "    return (n_H, n_W)"
   ]
  },
  {
   "cell_type": "code",
   "execution_count": 73,
   "metadata": {},
   "outputs": [
    {
     "name": "stdout",
     "output_type": "stream",
     "text": [
      "conv1 dimensions:  (28, 28)\n",
      "pool1 dimensions:  (14, 14)\n",
      "conv2 dimensions:  (10, 10)\n",
      "pool2 dimensions:  (5, 5)\n"
     ]
    }
   ],
   "source": [
    "print (\"conv1 dimensions: \", calc_conv_output_size (28, 28, f=5, pad=2, stride=1))\n",
    "print (\"pool1 dimensions: \", calc_conv_output_size (28, 28, f=2, pad=0, stride=2))\n",
    "print (\"conv2 dimensions: \", calc_conv_output_size (14, 14, f=5, pad=0, stride=1))\n",
    "print (\"pool2 dimensions: \", calc_conv_output_size (10, 10, f=2, pad=0, stride=2))"
   ]
  },
  {
   "cell_type": "code",
   "execution_count": 80,
   "metadata": {},
   "outputs": [],
   "source": [
    "def initialize_parameters_lenet():\n",
    "    \"\"\"\n",
    "    Initializes weight parameters to build a neural network with tensorflow. The shapes are:\n",
    "                        W1 : [4, 4, 1, 8]\n",
    "                        W2 : [2, 2, 8, 16]\n",
    "    Returns:\n",
    "    parameters -- a dictionary of tensors containing W1, W2\n",
    "    \"\"\"\n",
    "    \n",
    "        \n",
    "    W1 = tf.get_variable(\"W1\", [5, 5, 1, 6], initializer=tf.contrib.layers.xavier_initializer(seed=0))\n",
    "    W2 = tf.get_variable(\"W2\", [5, 5, 6, 16], initializer=tf.contrib.layers.xavier_initializer(seed=0))\n",
    "\n",
    "    # flatten layer *should* contain 400 units\n",
    "    W3 = tf.get_variable (\"W3\", [120,400], \n",
    "                          initializer = tf.contrib.layers.xavier_initializer(seed=1))\n",
    "    W4 = tf.get_variable (\"W4\", [84,120], \n",
    "                          initializer = tf.contrib.layers.xavier_initializer(seed=1))\n",
    "    W5 = tf.get_variable (\"W5\", [10,84], \n",
    "                          initializer = tf.contrib.layers.xavier_initializer(seed=1))\n",
    "    \n",
    "    b3 = tf.get_variable (\"b3\", [120,1], \n",
    "                          initializer = tf.zeros_initializer())\n",
    "    b4 = tf.get_variable (\"b4\", [84,1], \n",
    "                          initializer = tf.zeros_initializer())\n",
    "    b5 = tf.get_variable (\"b5\", [10,1], \n",
    "                          initializer = tf.zeros_initializer())\n",
    "    \n",
    "    parameters = {\"W1\": W1,\n",
    "                  \"W2\": W2,\n",
    "                  \"W3\": W3,\n",
    "                  \"W4\": W4,\n",
    "                  \"W5\": W5,\n",
    "                  \"b3\": b3,\n",
    "                  \"b4\": b4,\n",
    "                  \"b5\": b5}\n",
    "    \n",
    "    return parameters"
   ]
  },
  {
   "cell_type": "code",
   "execution_count": 85,
   "metadata": {
    "collapsed": true
   },
   "outputs": [],
   "source": [
    "def forward_propagation_lenet(X, parameters):\n",
    "    \"\"\"\n",
    "    Implements the forward propagation for the model:\n",
    "    CONV2D -> RELU -> MAXPOOL -> CONV2D -> RELU -> MAXPOOL -> FLATTEN -> FULLYCONNECTED\n",
    "    \n",
    "    Arguments:\n",
    "    X -- input dataset placeholder, of shape (input size, number of examples)\n",
    "    parameters -- python dictionary containing your parameters \"W1\", \"W2\"\n",
    "                  the shapes are given in initialize_parameters\n",
    "\n",
    "    Returns:\n",
    "    Z3 -- the output of the last LINEAR unit\n",
    "    \"\"\"\n",
    "    \n",
    "    W1 = parameters['W1']\n",
    "    W2 = parameters['W2']\n",
    "    #W3 = parameters['W3']\n",
    "    #W4 = parameters['W4']\n",
    "    #W5 = parameters['W5']\n",
    "    #b3 = parameters['b3']\n",
    "    #b4 = parameters['b4']\n",
    "    #b5 = parameters['b5']\n",
    "    \n",
    "    Z1 = tf.nn.conv2d(X, W1, strides=[1,1,1,1], padding='SAME', name='conv1') # output 28x28x6\n",
    "    A1 = tf.nn.relu(Z1)\n",
    "    P1 = tf.nn.max_pool(A1, ksize=[1,2,2,1], strides=[1,2,2,1], padding='VALID', name='pool1')\n",
    "\n",
    "    Z2 = tf.nn.conv2d(P1, W2, strides=[1,1,1,1], padding='VALID', name='conv2')\n",
    "    A2 = tf.nn.relu(Z2)\n",
    "    P2 = tf.nn.max_pool(A2, ksize=[1,2,2,1], strides=[1,2,2,1], padding='VALID', name='pool2')\n",
    "    F2 = tf.contrib.layers.flatten(P2) \n",
    "    \n",
    "    FC3 = tf.contrib.layers.fully_connected(F2, num_outputs=120, \n",
    "                                             activation_fn=tf.nn.relu)\n",
    "    FC4 = tf.contrib.layers.fully_connected(FC3, num_outputs=84, \n",
    "                                             activation_fn=tf.nn.relu)\n",
    "    ZL = tf.contrib.layers.fully_connected(FC3, num_outputs=10, \n",
    "                                             activation_fn=None)\n",
    "    \n",
    "    #ZFC3 = tf.add(tf.matmul(W3, F2), b3) \n",
    "    #AFC3 = tf.nn.relu(ZFC3)\n",
    "    \n",
    "    #ZFC4 = tf.add(tf.matmul(W4, AFC3), b4)\n",
    "    #AFC4 = tf.nn.relu(ZFC4)\n",
    "    \n",
    "    \n",
    "    #ZL = tf.add(tf.matmul(W5, AFC4), b5)\n",
    "\n",
    "    return ZL"
   ]
  },
  {
   "cell_type": "code",
   "execution_count": null,
   "metadata": {},
   "outputs": [
    {
     "name": "stdout",
     "output_type": "stream",
     "text": [
      "Cost after epoch 0: 0.490584, running for 18.716098 seconds\n"
     ]
    }
   ],
   "source": [
    "parameters, costs, train_accuracy, test_accuracy = model(f_x_train, f_y_train, \n",
    "                                                         f_x_test, f_y_test, \n",
    "                                                         network='lenet5',\n",
    "                                                         learning_rate = 0.0001, \n",
    "                                                         num_epochs = 10)"
   ]
  },
  {
   "cell_type": "code",
   "execution_count": null,
   "metadata": {
    "collapsed": true
   },
   "outputs": [],
   "source": []
  },
  {
   "cell_type": "code",
   "execution_count": null,
   "metadata": {
    "collapsed": true
   },
   "outputs": [],
   "source": []
  }
 ],
 "metadata": {
  "kernelspec": {
   "display_name": "Python 3",
   "language": "python",
   "name": "python3"
  },
  "language_info": {
   "codemirror_mode": {
    "name": "ipython",
    "version": 3
   },
   "file_extension": ".py",
   "mimetype": "text/x-python",
   "name": "python",
   "nbconvert_exporter": "python",
   "pygments_lexer": "ipython3",
   "version": "3.6.3"
  }
 },
 "nbformat": 4,
 "nbformat_minor": 2
}
